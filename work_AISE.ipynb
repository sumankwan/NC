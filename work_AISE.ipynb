{
 "cells": [
  {
   "cell_type": "code",
   "execution_count": 4,
   "metadata": {},
   "outputs": [
    {
     "name": "stdout",
     "output_type": "stream",
     "text": [
      "Error loading weights from group_models/group2/VGG19_weights.pth: Error(s) in loading state_dict for VGG:\n",
      "\tMissing key(s) in state_dict: \"features.0.weight\", \"features.0.bias\", \"features.1.weight\", \"features.1.bias\", \"features.1.running_mean\", \"features.1.running_var\", \"features.3.weight\", \"features.3.bias\", \"features.4.weight\", \"features.4.bias\", \"features.4.running_mean\", \"features.4.running_var\", \"features.7.weight\", \"features.7.bias\", \"features.8.weight\", \"features.8.bias\", \"features.8.running_mean\", \"features.8.running_var\", \"features.10.weight\", \"features.10.bias\", \"features.11.weight\", \"features.11.bias\", \"features.11.running_mean\", \"features.11.running_var\", \"features.14.weight\", \"features.14.bias\", \"features.15.weight\", \"features.15.bias\", \"features.15.running_mean\", \"features.15.running_var\", \"features.17.weight\", \"features.17.bias\", \"features.18.weight\", \"features.18.bias\", \"features.18.running_mean\", \"features.18.running_var\", \"features.20.weight\", \"features.20.bias\", \"features.21.weight\", \"features.21.bias\", \"features.21.running_mean\", \"features.21.running_var\", \"features.23.weight\", \"features.23.bias\", \"features.24.weight\", \"features.24.bias\", \"features.24.running_mean\", \"features.24.running_var\", \"features.27.weight\", \"features.27.bias\", \"features.28.weight\", \"features.28.bias\", \"features.28.running_mean\", \"features.28.running_var\", \"features.30.weight\", \"features.30.bias\", \"features.31.weight\", \"features.31.bias\", \"features.31.running_mean\", \"features.31.running_var\", \"features.33.weight\", \"features.33.bias\", \"features.34.weight\", \"features.34.bias\", \"features.34.running_mean\", \"features.34.running_var\", \"features.36.weight\", \"features.36.bias\", \"features.37.weight\", \"features.37.bias\", \"features.37.running_mean\", \"features.37.running_var\", \"features.40.weight\", \"features.40.bias\", \"features.41.weight\", \"features.41.bias\", \"features.41.running_mean\", \"features.41.running_var\", \"features.43.weight\", \"features.43.bias\", \"features.44.weight\", \"features.44.bias\", \"features.44.running_mean\", \"features.44.running_var\", \"features.46.weight\", \"features.46.bias\", \"features.47.weight\", \"features.47.bias\", \"features.47.running_mean\", \"features.47.running_var\", \"features.49.weight\", \"features.49.bias\", \"features.50.weight\", \"features.50.bias\", \"features.50.running_mean\", \"features.50.running_var\", \"classifier.weight\", \"classifier.bias\". \n",
      "\tUnexpected key(s) in state_dict: \"module.features.0.weight\", \"module.features.0.bias\", \"module.features.1.weight\", \"module.features.1.bias\", \"module.features.1.running_mean\", \"module.features.1.running_var\", \"module.features.1.num_batches_tracked\", \"module.features.3.weight\", \"module.features.3.bias\", \"module.features.4.weight\", \"module.features.4.bias\", \"module.features.4.running_mean\", \"module.features.4.running_var\", \"module.features.4.num_batches_tracked\", \"module.features.7.weight\", \"module.features.7.bias\", \"module.features.8.weight\", \"module.features.8.bias\", \"module.features.8.running_mean\", \"module.features.8.running_var\", \"module.features.8.num_batches_tracked\", \"module.features.10.weight\", \"module.features.10.bias\", \"module.features.11.weight\", \"module.features.11.bias\", \"module.features.11.running_mean\", \"module.features.11.running_var\", \"module.features.11.num_batches_tracked\", \"module.features.14.weight\", \"module.features.14.bias\", \"module.features.15.weight\", \"module.features.15.bias\", \"module.features.15.running_mean\", \"module.features.15.running_var\", \"module.features.15.num_batches_tracked\", \"module.features.17.weight\", \"module.features.17.bias\", \"module.features.18.weight\", \"module.features.18.bias\", \"module.features.18.running_mean\", \"module.features.18.running_var\", \"module.features.18.num_batches_tracked\", \"module.features.20.weight\", \"module.features.20.bias\", \"module.features.21.weight\", \"module.features.21.bias\", \"module.features.21.running_mean\", \"module.features.21.running_var\", \"module.features.21.num_batches_tracked\", \"module.features.23.weight\", \"module.features.23.bias\", \"module.features.24.weight\", \"module.features.24.bias\", \"module.features.24.running_mean\", \"module.features.24.running_var\", \"module.features.24.num_batches_tracked\", \"module.features.27.weight\", \"module.features.27.bias\", \"module.features.28.weight\", \"module.features.28.bias\", \"module.features.28.running_mean\", \"module.features.28.running_var\", \"module.features.28.num_batches_tracked\", \"module.features.30.weight\", \"module.features.30.bias\", \"module.features.31.weight\", \"module.features.31.bias\", \"module.features.31.running_mean\", \"module.features.31.running_var\", \"module.features.31.num_batches_tracked\", \"module.features.33.weight\", \"module.features.33.bias\", \"module.features.34.weight\", \"module.features.34.bias\", \"module.features.34.running_mean\", \"module.features.34.running_var\", \"module.features.34.num_batches_tracked\", \"module.features.36.weight\", \"module.features.36.bias\", \"module.features.37.weight\", \"module.features.37.bias\", \"module.features.37.running_mean\", \"module.features.37.running_var\", \"module.features.37.num_batches_tracked\", \"module.features.40.weight\", \"module.features.40.bias\", \"module.features.41.weight\", \"module.features.41.bias\", \"module.features.41.running_mean\", \"module.features.41.running_var\", \"module.features.41.num_batches_tracked\", \"module.features.43.weight\", \"module.features.43.bias\", \"module.features.44.weight\", \"module.features.44.bias\", \"module.features.44.running_mean\", \"module.features.44.running_var\", \"module.features.44.num_batches_tracked\", \"module.features.46.weight\", \"module.features.46.bias\", \"module.features.47.weight\", \"module.features.47.bias\", \"module.features.47.running_mean\", \"module.features.47.running_var\", \"module.features.47.num_batches_tracked\", \"module.features.49.weight\", \"module.features.49.bias\", \"module.features.50.weight\", \"module.features.50.bias\", \"module.features.50.running_mean\", \"module.features.50.running_var\", \"module.features.50.num_batches_tracked\", \"module.classifier.weight\", \"module.classifier.bias\". \n"
     ]
    }
   ],
   "source": [
    "import torch\n",
    "from group_models.group2.group2 import VGG  # Importing the VGG class from group2.py\n",
    "\n",
    "def load_vgg_model_and_weights(weight_path, vgg_type='VGG19'):\n",
    "    device = 'cuda' if torch.cuda.is_available() else 'cpu'\n",
    "    model = VGG(vgg_type).to(device)\n",
    "    \n",
    "    try:\n",
    "        model.load_state_dict(torch.load(weight_path, map_location=device))\n",
    "        print(f\"Successfully loaded weights from {weight_path}.\")\n",
    "    except Exception as e:\n",
    "        print(f\"Error loading weights from {weight_path}: {str(e)}\")\n",
    "        \n",
    "    return model\n",
    "\n",
    "if __name__ == \"__main__\":\n",
    "    weight_path = 'group_models/group2/VGG19_weights.pth'  # Adjust this path if your weight file is located somewhere else\n",
    "    model = load_vgg_model_and_weights(weight_path, 'VGG19')"
   ]
  },
  {
   "cell_type": "code",
   "execution_count": 5,
   "metadata": {},
   "outputs": [
    {
     "name": "stdout",
     "output_type": "stream",
     "text": [
      "Successfully loaded weights from group_models/group2/VGG19_weights.pth.\n"
     ]
    }
   ],
   "source": [
    "import torch\n",
    "from group_models.group2.group2 import VGG  # Importing the VGG class from group2.py\n",
    "\n",
    "def load_vgg_model_and_weights(weight_path, vgg_type='VGG19'):\n",
    "    device = 'cuda' if torch.cuda.is_available() else 'cpu'\n",
    "    model = VGG(vgg_type).to(device)\n",
    "\n",
    "    # Load the state dictionary and potentially strip the 'module.' prefix\n",
    "    state_dict = torch.load(weight_path, map_location=device)\n",
    "    new_state_dict = {k.replace(\"module.\", \"\"): v for k, v in state_dict.items()}\n",
    "\n",
    "    try:\n",
    "        model.load_state_dict(new_state_dict)\n",
    "        print(f\"Successfully loaded weights from {weight_path}.\")\n",
    "    except Exception as e:\n",
    "        print(f\"Error loading weights from {weight_path}: {str(e)}\")\n",
    "        \n",
    "    return model\n",
    "\n",
    "if __name__ == \"__main__\":\n",
    "    weight_path = 'group_models/group2/VGG19_weights.pth'  # Adjust this path if your weight file is located somewhere else\n",
    "    model = load_vgg_model_and_weights(weight_path, 'VGG19')"
   ]
  },
  {
   "cell_type": "code",
   "execution_count": 8,
   "metadata": {},
   "outputs": [
    {
     "name": "stdout",
     "output_type": "stream",
     "text": [
      "PyTorch Version: 2.1.0+cpu\n",
      "CUDA Version: None\n"
     ]
    }
   ],
   "source": [
    "import torch\n",
    "print(\"PyTorch Version:\", torch.__version__)\n",
    "print(\"CUDA Version:\", torch.version.cuda)"
   ]
  },
  {
   "cell_type": "code",
   "execution_count": 7,
   "metadata": {},
   "outputs": [
    {
     "name": "stdout",
     "output_type": "stream",
     "text": [
      "CUDA available: False\n",
      "Number of GPUs available: 0\n"
     ]
    }
   ],
   "source": [
    "print(\"CUDA available:\", torch.cuda.is_available())\n",
    "print(\"Number of GPUs available:\", torch.cuda.device_count())"
   ]
  },
  {
   "cell_type": "code",
   "execution_count": 9,
   "metadata": {},
   "outputs": [
    {
     "name": "stdout",
     "output_type": "stream",
     "text": [
      "False\n"
     ]
    }
   ],
   "source": [
    "import torch\n",
    "print(torch.cuda.is_available())"
   ]
  },
  {
   "cell_type": "code",
   "execution_count": 10,
   "metadata": {},
   "outputs": [
    {
     "ename": "FileNotFoundError",
     "evalue": "[Errno 2] No such file or directory: 'path_to_clean_image.jpg'",
     "output_type": "error",
     "traceback": [
      "\u001b[1;31m---------------------------------------------------------------------------\u001b[0m",
      "\u001b[1;31mFileNotFoundError\u001b[0m                         Traceback (most recent call last)",
      "\u001b[1;32mc:\\Users\\DELL Vostro 14\\OneDrive - Singapore Management University\\Desktop\\CS612\\Group project\\Neural-Cleanse-Pytorch\\work_AISE.ipynb Cell 6\u001b[0m line \u001b[0;36m1\n\u001b[0;32m      <a href='vscode-notebook-cell:/c%3A/Users/DELL%20Vostro%2014/OneDrive%20-%20Singapore%20Management%20University/Desktop/CS612/Group%20project/Neural-Cleanse-Pytorch/work_AISE.ipynb#X10sZmlsZQ%3D%3D?line=6'>7</a>\u001b[0m mask_path \u001b[39m=\u001b[39m \u001b[39m'\u001b[39m\u001b[39mpath_to_mask_image.jpg\u001b[39m\u001b[39m'\u001b[39m\n\u001b[0;32m      <a href='vscode-notebook-cell:/c%3A/Users/DELL%20Vostro%2014/OneDrive%20-%20Singapore%20Management%20University/Desktop/CS612/Group%20project/Neural-Cleanse-Pytorch/work_AISE.ipynb#X10sZmlsZQ%3D%3D?line=8'>9</a>\u001b[0m transform \u001b[39m=\u001b[39m transforms\u001b[39m.\u001b[39mCompose([\n\u001b[0;32m     <a href='vscode-notebook-cell:/c%3A/Users/DELL%20Vostro%2014/OneDrive%20-%20Singapore%20Management%20University/Desktop/CS612/Group%20project/Neural-Cleanse-Pytorch/work_AISE.ipynb#X10sZmlsZQ%3D%3D?line=9'>10</a>\u001b[0m     transforms\u001b[39m.\u001b[39mResize((\u001b[39m224\u001b[39m, \u001b[39m224\u001b[39m)),  \u001b[39m# Resize to the input size of VGG\u001b[39;00m\n\u001b[0;32m     <a href='vscode-notebook-cell:/c%3A/Users/DELL%20Vostro%2014/OneDrive%20-%20Singapore%20Management%20University/Desktop/CS612/Group%20project/Neural-Cleanse-Pytorch/work_AISE.ipynb#X10sZmlsZQ%3D%3D?line=10'>11</a>\u001b[0m     transforms\u001b[39m.\u001b[39mToTensor()\n\u001b[0;32m     <a href='vscode-notebook-cell:/c%3A/Users/DELL%20Vostro%2014/OneDrive%20-%20Singapore%20Management%20University/Desktop/CS612/Group%20project/Neural-Cleanse-Pytorch/work_AISE.ipynb#X10sZmlsZQ%3D%3D?line=11'>12</a>\u001b[0m ])\n\u001b[1;32m---> <a href='vscode-notebook-cell:/c%3A/Users/DELL%20Vostro%2014/OneDrive%20-%20Singapore%20Management%20University/Desktop/CS612/Group%20project/Neural-Cleanse-Pytorch/work_AISE.ipynb#X10sZmlsZQ%3D%3D?line=13'>14</a>\u001b[0m clean_image \u001b[39m=\u001b[39m Image\u001b[39m.\u001b[39;49mopen(clean_image_path)\n\u001b[0;32m     <a href='vscode-notebook-cell:/c%3A/Users/DELL%20Vostro%2014/OneDrive%20-%20Singapore%20Management%20University/Desktop/CS612/Group%20project/Neural-Cleanse-Pytorch/work_AISE.ipynb#X10sZmlsZQ%3D%3D?line=14'>15</a>\u001b[0m mask \u001b[39m=\u001b[39m Image\u001b[39m.\u001b[39mopen(mask_path)\n\u001b[0;32m     <a href='vscode-notebook-cell:/c%3A/Users/DELL%20Vostro%2014/OneDrive%20-%20Singapore%20Management%20University/Desktop/CS612/Group%20project/Neural-Cleanse-Pytorch/work_AISE.ipynb#X10sZmlsZQ%3D%3D?line=16'>17</a>\u001b[0m clean_image \u001b[39m=\u001b[39m transform(clean_image)\n",
      "File \u001b[1;32m~\\AppData\\Local\\Packages\\PythonSoftwareFoundation.Python.3.10_qbz5n2kfra8p0\\LocalCache\\local-packages\\Python310\\site-packages\\PIL\\Image.py:3227\u001b[0m, in \u001b[0;36mopen\u001b[1;34m(fp, mode, formats)\u001b[0m\n\u001b[0;32m   3224\u001b[0m     filename \u001b[39m=\u001b[39m fp\n\u001b[0;32m   3226\u001b[0m \u001b[39mif\u001b[39;00m filename:\n\u001b[1;32m-> 3227\u001b[0m     fp \u001b[39m=\u001b[39m builtins\u001b[39m.\u001b[39;49mopen(filename, \u001b[39m\"\u001b[39;49m\u001b[39mrb\u001b[39;49m\u001b[39m\"\u001b[39;49m)\n\u001b[0;32m   3228\u001b[0m     exclusive_fp \u001b[39m=\u001b[39m \u001b[39mTrue\u001b[39;00m\n\u001b[0;32m   3230\u001b[0m \u001b[39mtry\u001b[39;00m:\n",
      "\u001b[1;31mFileNotFoundError\u001b[0m: [Errno 2] No such file or directory: 'path_to_clean_image.jpg'"
     ]
    }
   ],
   "source": [
    "import torch\n",
    "import torchvision.transforms as transforms\n",
    "from PIL import Image\n",
    "\n",
    "# Load the clean image and mask\n",
    "clean_image_path = 'path_to_clean_image.jpg'\n",
    "mask_path = 'path_to_mask_image.jpg'\n",
    "\n",
    "transform = transforms.Compose([\n",
    "    transforms.Resize((224, 224)),  # Resize to the input size of VGG\n",
    "    transforms.ToTensor()\n",
    "])\n",
    "\n",
    "clean_image = Image.open(clean_image_path)\n",
    "mask = Image.open(mask_path)\n",
    "\n",
    "clean_image = transform(clean_image)\n",
    "mask = transform(mask)\n",
    "\n",
    "# Overlay the mask onto the clean image\n",
    "trigger_intensity = 1.0  # You can adjust this based on the mask intensity\n",
    "overlayed_image = clean_image + trigger_intensity * mask\n",
    "overlayed_image = torch.clamp(overlayed_image, 0, 1)  # Ensure values are between 0 and 1\n",
    "\n",
    "# Convert back to PIL Image for visualization\n",
    "overlayed_image_pil = transforms.ToPILImage()(overlayed_image)\n",
    "overlayed_image_pil.show()"
   ]
  },
  {
   "cell_type": "code",
   "execution_count": 11,
   "metadata": {},
   "outputs": [
    {
     "name": "stdout",
     "output_type": "stream",
     "text": [
      "Downloading https://www.cs.toronto.edu/~kriz/cifar-10-python.tar.gz to ./data\\cifar-10-python.tar.gz\n"
     ]
    },
    {
     "name": "stderr",
     "output_type": "stream",
     "text": [
      "100%|██████████| 170498071/170498071 [01:10<00:00, 2406819.18it/s]\n"
     ]
    },
    {
     "name": "stdout",
     "output_type": "stream",
     "text": [
      "Extracting ./data\\cifar-10-python.tar.gz to ./data\n"
     ]
    }
   ],
   "source": [
    "import torch\n",
    "import torchvision\n",
    "import torchvision.transforms as transforms\n",
    "\n",
    "transform = transforms.Compose([\n",
    "    transforms.ToTensor()\n",
    "])\n",
    "\n",
    "trainset = torchvision.datasets.CIFAR10(root='./data', train=True, download=True, transform=transform)\n",
    "trainloader = torch.utils.data.DataLoader(trainset, batch_size=1, shuffle=True)"
   ]
  },
  {
   "cell_type": "code",
   "execution_count": null,
   "metadata": {},
   "outputs": [
    {
     "ename": "FileNotFoundError",
     "evalue": "[Errno 2] No such file or directory: '../results/cifar10_visualize_mask_label_6.png'",
     "output_type": "error",
     "traceback": [
      "\u001b[1;31m---------------------------------------------------------------------------\u001b[0m",
      "\u001b[1;31mFileNotFoundError\u001b[0m                         Traceback (most recent call last)",
      "\u001b[1;32mc:\\Users\\DELL Vostro 14\\OneDrive - Singapore Management University\\Desktop\\CS612\\Group project\\Neural-Cleanse-Pytorch\\work_AISE.ipynb Cell 8\u001b[0m line \u001b[0;36m1\n\u001b[0;32m     <a href='vscode-notebook-cell:/c%3A/Users/DELL%20Vostro%2014/OneDrive%20-%20Singapore%20Management%20University/Desktop/CS612/Group%20project/Neural-Cleanse-Pytorch/work_AISE.ipynb#X12sZmlsZQ%3D%3D?line=15'>16</a>\u001b[0m inputs, labels \u001b[39m=\u001b[39m data\n\u001b[0;32m     <a href='vscode-notebook-cell:/c%3A/Users/DELL%20Vostro%2014/OneDrive%20-%20Singapore%20Management%20University/Desktop/CS612/Group%20project/Neural-Cleanse-Pytorch/work_AISE.ipynb#X12sZmlsZQ%3D%3D?line=16'>17</a>\u001b[0m current_label \u001b[39m=\u001b[39m labels[\u001b[39m0\u001b[39m]\u001b[39m.\u001b[39mitem()\n\u001b[1;32m---> <a href='vscode-notebook-cell:/c%3A/Users/DELL%20Vostro%2014/OneDrive%20-%20Singapore%20Management%20University/Desktop/CS612/Group%20project/Neural-Cleanse-Pytorch/work_AISE.ipynb#X12sZmlsZQ%3D%3D?line=18'>19</a>\u001b[0m overlayed_image \u001b[39m=\u001b[39m apply_mask_to_clean_image(inputs[\u001b[39m0\u001b[39;49m], masks_path_template, current_label)\n\u001b[0;32m     <a href='vscode-notebook-cell:/c%3A/Users/DELL%20Vostro%2014/OneDrive%20-%20Singapore%20Management%20University/Desktop/CS612/Group%20project/Neural-Cleanse-Pytorch/work_AISE.ipynb#X12sZmlsZQ%3D%3D?line=20'>21</a>\u001b[0m \u001b[39m# If you want to visualize the overlayed image\u001b[39;00m\n\u001b[0;32m     <a href='vscode-notebook-cell:/c%3A/Users/DELL%20Vostro%2014/OneDrive%20-%20Singapore%20Management%20University/Desktop/CS612/Group%20project/Neural-Cleanse-Pytorch/work_AISE.ipynb#X12sZmlsZQ%3D%3D?line=21'>22</a>\u001b[0m overlayed_image_pil \u001b[39m=\u001b[39m transforms\u001b[39m.\u001b[39mToPILImage()(overlayed_image)\n",
      "\u001b[1;32mc:\\Users\\DELL Vostro 14\\OneDrive - Singapore Management University\\Desktop\\CS612\\Group project\\Neural-Cleanse-Pytorch\\work_AISE.ipynb Cell 8\u001b[0m line \u001b[0;36m4\n\u001b[0;32m      <a href='vscode-notebook-cell:/c%3A/Users/DELL%20Vostro%2014/OneDrive%20-%20Singapore%20Management%20University/Desktop/CS612/Group%20project/Neural-Cleanse-Pytorch/work_AISE.ipynb#X12sZmlsZQ%3D%3D?line=2'>3</a>\u001b[0m \u001b[39mdef\u001b[39;00m \u001b[39mapply_mask_to_clean_image\u001b[39m(clean_image, mask_path, label):\n\u001b[1;32m----> <a href='vscode-notebook-cell:/c%3A/Users/DELL%20Vostro%2014/OneDrive%20-%20Singapore%20Management%20University/Desktop/CS612/Group%20project/Neural-Cleanse-Pytorch/work_AISE.ipynb#X12sZmlsZQ%3D%3D?line=3'>4</a>\u001b[0m     mask \u001b[39m=\u001b[39m Image\u001b[39m.\u001b[39;49mopen(mask_path\u001b[39m.\u001b[39;49mformat(label))\n\u001b[0;32m      <a href='vscode-notebook-cell:/c%3A/Users/DELL%20Vostro%2014/OneDrive%20-%20Singapore%20Management%20University/Desktop/CS612/Group%20project/Neural-Cleanse-Pytorch/work_AISE.ipynb#X12sZmlsZQ%3D%3D?line=4'>5</a>\u001b[0m     mask \u001b[39m=\u001b[39m transform(mask)\n\u001b[0;32m      <a href='vscode-notebook-cell:/c%3A/Users/DELL%20Vostro%2014/OneDrive%20-%20Singapore%20Management%20University/Desktop/CS612/Group%20project/Neural-Cleanse-Pytorch/work_AISE.ipynb#X12sZmlsZQ%3D%3D?line=6'>7</a>\u001b[0m     trigger_intensity \u001b[39m=\u001b[39m \u001b[39m1.0\u001b[39m\n",
      "File \u001b[1;32m~\\AppData\\Local\\Packages\\PythonSoftwareFoundation.Python.3.10_qbz5n2kfra8p0\\LocalCache\\local-packages\\Python310\\site-packages\\PIL\\Image.py:3227\u001b[0m, in \u001b[0;36mopen\u001b[1;34m(fp, mode, formats)\u001b[0m\n\u001b[0;32m   3224\u001b[0m     filename \u001b[39m=\u001b[39m fp\n\u001b[0;32m   3226\u001b[0m \u001b[39mif\u001b[39;00m filename:\n\u001b[1;32m-> 3227\u001b[0m     fp \u001b[39m=\u001b[39m builtins\u001b[39m.\u001b[39;49mopen(filename, \u001b[39m\"\u001b[39;49m\u001b[39mrb\u001b[39;49m\u001b[39m\"\u001b[39;49m)\n\u001b[0;32m   3228\u001b[0m     exclusive_fp \u001b[39m=\u001b[39m \u001b[39mTrue\u001b[39;00m\n\u001b[0;32m   3230\u001b[0m \u001b[39mtry\u001b[39;00m:\n",
      "\u001b[1;31mFileNotFoundError\u001b[0m: [Errno 2] No such file or directory: '../results/cifar10_visualize_mask_label_6.png'"
     ]
    }
   ],
   "source": [
    "from PIL import Image\n",
    "\n",
    "def apply_mask_to_clean_image(clean_image, mask_path, label):\n",
    "    mask = Image.open(mask_path.format(label))\n",
    "    mask = transform(mask)\n",
    "\n",
    "    trigger_intensity = 1.0\n",
    "    overlayed_image = clean_image + trigger_intensity * mask\n",
    "    overlayed_image = torch.clamp(overlayed_image, 0, 1)\n",
    "\n",
    "    return overlayed_image\n",
    "\n",
    "masks_path_template = '../results/cifar10_visualize_mask_label_{}.png'\n",
    "\n",
    "for i, data in enumerate(trainloader, 0):\n",
    "    inputs, labels = data\n",
    "    current_label = labels[0].item()\n",
    "\n",
    "    overlayed_image = apply_mask_to_clean_image(inputs[0], masks_path_template, current_label)\n",
    "\n",
    "    # If you want to visualize the overlayed image\n",
    "    overlayed_image_pil = transforms.ToPILImage()(overlayed_image)\n",
    "    overlayed_image_pil.show()\n",
    "    \n",
    "    # You might want to break after a few iterations to not open too many images\n",
    "    if i > 10:\n",
    "        break"
   ]
  },
  {
   "cell_type": "code",
   "execution_count": 18,
   "metadata": {},
   "outputs": [
    {
     "data": {
      "image/png": "[encoded data removed]",
      "text/plain": [
       "<Figure size 640x480 with 1 Axes>"
      ]
     },
     "metadata": {},
     "output_type": "display_data"
    }
   ],
   "source": [
    "import matplotlib.pyplot as plt\n",
    "\n",
    "# ...\n",
    "\n",
    "# Inside your loop\n",
    "# If you want to visualize the overlayed image\n",
    "overlayed_image_np = overlayed_image.permute(1, 2, 0).numpy()\n",
    "plt.imshow(overlayed_image_np)\n",
    "plt.show()"
   ]
  },
  {
   "cell_type": "code",
   "execution_count": 20,
   "metadata": {},
   "outputs": [],
   "source": [
    "import torch\n",
    "import torchvision\n",
    "import torchvision.transforms as transforms\n",
    "import matplotlib.pyplot as plt\n",
    "import numpy as np\n",
    "\n",
    "# Transformation for CIFAR-10 dataset\n",
    "transform = transforms.Compose(\n",
    "    [transforms.ToTensor()])\n",
    "\n",
    "# Load CIFAR-10 dataset\n",
    "trainset = torchvision.datasets.CIFAR10(root='./data', train=True, download=True, transform=transform)\n",
    "trainloader = torch.utils.data.DataLoader(trainset, batch_size=10, shuffle=True, num_workers=2)\n",
    "\n",
    "# Get first batch of images\n",
    "images, labels = next(iter(trainloader))\n",
    "\n",
    "# Function to show image\n",
    "def imshow(img):\n",
    "    img = img / 2 + 0.5     # unnormalize\n",
    "    npimg = img.numpy()\n",
    "    plt.imshow(np.transpose(npimg, (1, 2, 0)))\n",
    "    plt.show()\n",
    "\n",
    "# Display first 10 images\n",
    "imshow(torchvision.utils.make_grid(images))"
   ]
  }
 ],
 "metadata": {
  "kernelspec": {
   "display_name": "Python 3",
   "language": "python",
   "name": "python3"
  },
  "language_info": {
   "codemirror_mode": {
    "name": "ipython",
    "version": 3
   },
   "file_extension": ".py",
   "mimetype": "text/x-python",
   "name": "python",
   "nbconvert_exporter": "python",
   "pygments_lexer": "ipython3",
   "version": "3.10.11"
  }
 },
 "nbformat": 4,
 "nbformat_minor": 2
}
